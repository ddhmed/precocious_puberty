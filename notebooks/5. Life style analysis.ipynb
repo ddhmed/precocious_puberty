{
 "cells": [
  {
   "cell_type": "code",
   "execution_count": 1,
   "metadata": {},
   "outputs": [],
   "source": [
    "import numpy as np\n",
    "import pandas as pd\n",
    "import matplotlib.pyplot as plt\n",
    "from matplotlib import gridspec\n",
    "import matplotlib.lines as mlines\n",
    "from matplotlib.font_manager import FontProperties\n",
    "import seaborn as sns\n",
    "from scipy.stats import norm, pearsonr, spearmanr, kendalltau\n",
    "import scipy.stats as stats\n",
    "from IPython.core.interactiveshell import InteractiveShell\n",
    "InteractiveShell.ast_node_interactivity = 'all' #last_expr\n",
    "import cloudpickle as pickle\n",
    "\n",
    "sns.set_context(\"paper\")\n",
    "simHei = FontProperties(fname=r'/usr/share/fonts/Chinses/simhei.ttf', size=10) \n",
    "import warnings\n",
    "warnings.filterwarnings('ignore')"
   ]
  },
  {
   "cell_type": "markdown",
   "metadata": {},
   "source": [
    "# 1. Difference analysis"
   ]
  },
  {
   "cell_type": "code",
   "execution_count": 45,
   "metadata": {},
   "outputs": [],
   "source": [
    "from scipy.stats import fisher_exact, ranksums\n",
    "import statsmodels.stats.multitest as multi\n",
    "\n",
    "life_styles = [('Dietary patterns ', 'metadata_6_food.csv'),\n",
    "               ('Living environment', 'metadata_5_env.csv'),\n",
    "               ('maternal pregnancy and childbirth', 'metadata_3_childbirth.csv'),\n",
    "               ('physical condition', 'metadata_4_illness.csv'),\n",
    "               ('physical condition of parents', 'metadata_2_parents.csv')]\n",
    "\n",
    "statistics = []\n",
    "columns = []\n",
    "for l, file in life_styles:\n",
    "    data = pd.read_csv('../data/Preprocess/'+file, index_col=0, sep=',')\n",
    "    columns.extend(data.columns)\n",
    "    for v in data.columns:\n",
    "        values = data.loc[-np.isnan(data[v]), v]\n",
    "        normal_values = values[[i for i in values.index if i[0]=='N']]\n",
    "        pp_values = values[[i for i in values.index if i[0]=='P']]\n",
    "        if len(set(values))>2:\n",
    "            row.extend([v, normal_values.mean(), pp_values.mean()])\n",
    "            f, pvalue = ranksums(pp_values, normal_values)\n",
    "            FC = pp_values.mean()/normal_values.mean()\n",
    "            statistics.append([l, v, normal_values.mean(), pp_values.mean(), FC, pvalue])\n",
    "        else:\n",
    "            a = list(normal_values).count(0)\n",
    "            b = list(normal_values).count(1)\n",
    "            c = list(pp_values).count(0)\n",
    "            d = list(pp_values).count(1)\n",
    "            oddratio, pvalue = fisher_exact([[a, b], [c, d]], alternative='two-sided')\n",
    "            statistics.append([l, v, b/float(a+b), d/float(c+d), oddratio, pvalue])\n",
    "\n",
    "statistics = pd.DataFrame(statistics, index = columns, \n",
    "                             columns = ['Life Style', 'Variable','Normal(mean/ratio)', 'PP(mean/ratio)',\n",
    "                                        'Foldchage/Oddratio','p_value'])\n",
    "statistics['FDR'] = multi.multipletests(statistics['p_value'], method = 'fdr_bh')[1]\n",
    "statistics.to_csv('Result/4. LifeStyle_diff.csv')"
   ]
  },
  {
   "cell_type": "code",
   "execution_count": null,
   "metadata": {},
   "outputs": [],
   "source": []
  },
  {
   "cell_type": "code",
   "execution_count": 114,
   "metadata": {},
   "outputs": [
    {
     "data": {
      "image/png": "[encoded data removed]",
      "text/plain": [
       "<Figure size 160x400 with 1 Axes>"
      ]
     },
     "metadata": {
      "needs_background": "light"
     },
     "output_type": "display_data"
    }
   ],
   "source": [
    "data = pd.read_csv('../data/Preprocess/metadata_6_food.csv', index_col=0, sep=',')\n",
    "\n",
    "v = 'Seafood'\n",
    "values = data.loc[-np.isnan(data[v]), v]\n",
    "normal_values = values[[i for i in values.index if i[0]=='N']]\n",
    "pp_values = values[[i for i in values.index if i[0]=='P']]\n",
    "\n",
    "means = [normal_values.mean(), pp_values.mean()]\n",
    "stds = [normal_values.std(), pp_values.std()]\n",
    "counts = [len(normal_values), len(pp_values)]\n",
    "ci95 = 1.96 * np.array(stds) / np.sqrt(np.array(counts)) #95置信区间\n",
    "\n",
    "_ = plt.figure(figsize=(2, 5), dpi=80)\n",
    "p = plt.bar(x=[0, 0.5], height=means, yerr=[[0, 0], ci95], width=0.4, align='center', color=['red', 'blue'], edgecolor='black', linewidth=1, ecolor='black', capsize=8)\n"
   ]
  },
  {
   "cell_type": "code",
   "execution_count": null,
   "metadata": {},
   "outputs": [],
   "source": []
  },
  {
   "cell_type": "code",
   "execution_count": null,
   "metadata": {},
   "outputs": [],
   "source": []
  },
  {
   "cell_type": "markdown",
   "metadata": {},
   "source": [
    "# 2. Factor network （kendall correlation）"
   ]
  },
  {
   "cell_type": "code",
   "execution_count": 57,
   "metadata": {},
   "outputs": [],
   "source": [
    "def correlation_analysis(data, by='index', method=spearmanr, sampling=1000):\n",
    "    if by == 'index':\n",
    "        data = data.copy().T\n",
    "    correlation_r_res = []\n",
    "    correlation_p_res = []\n",
    "    for i in data.columns:\n",
    "        row_r = []\n",
    "        row_p = []\n",
    "        for j in data.columns:\n",
    "            temp = data.loc[:, [i, j]]\n",
    "            temp = temp.dropna(how='any')\n",
    "            r, p = method(temp[i], temp[j])\n",
    "            if sampling:\n",
    "                p = 0\n",
    "                for rt in range(sampling):\n",
    "                    x, y = list(temp[i]), list(temp[j])\n",
    "                    np.random.shuffle(y)\n",
    "                    r1, _ = method(x, y)\n",
    "                    if r1 > r:\n",
    "                        p += 1\n",
    "                p = min([p/float(sampling), 1-p/float(sampling)])\n",
    "            row_r.append(r)\n",
    "            row_p.append(p)\n",
    "        correlation_r_res.append(row_r)\n",
    "        correlation_p_res.append(row_p)\n",
    "    correlation_r_res = pd.DataFrame(correlation_r_res, index=data.columns, columns=data.columns)\n",
    "    correlation_p_res = pd.DataFrame(correlation_p_res, index=data.columns, columns=data.columns)\n",
    "    return correlation_r_res, correlation_p_res"
   ]
  },
  {
   "cell_type": "code",
   "execution_count": 47,
   "metadata": {},
   "outputs": [
    {
     "data": {
      "text/html": [
       "<div>\n",
       "<style scoped>\n",
       "    .dataframe tbody tr th:only-of-type {\n",
       "        vertical-align: middle;\n",
       "    }\n",
       "\n",
       "    .dataframe tbody tr th {\n",
       "        vertical-align: top;\n",
       "    }\n",
       "\n",
       "    .dataframe thead th {\n",
       "        text-align: right;\n",
       "    }\n",
       "</style>\n",
       "<table border=\"1\" class=\"dataframe\">\n",
       "  <thead>\n",
       "    <tr style=\"text-align: right;\">\n",
       "      <th></th>\n",
       "      <th>Add complementary food age</th>\n",
       "      <th>Like fruit</th>\n",
       "      <th>Like vegetables</th>\n",
       "      <th>Like meat</th>\n",
       "      <th>Like pasta</th>\n",
       "      <th>More bean products</th>\n",
       "      <th>More fried food</th>\n",
       "      <th>More Snacks</th>\n",
       "      <th>More drink</th>\n",
       "      <th>More buying ingredients</th>\n",
       "      <th>...</th>\n",
       "      <th>Fungi</th>\n",
       "      <th>Grease</th>\n",
       "      <th>Drink</th>\n",
       "      <th>Fried food</th>\n",
       "      <th>Sweets</th>\n",
       "      <th>Barbecue</th>\n",
       "      <th>Puffed food</th>\n",
       "      <th>Pickles</th>\n",
       "      <th>MSG</th>\n",
       "      <th>Tonic</th>\n",
       "    </tr>\n",
       "  </thead>\n",
       "  <tbody>\n",
       "    <tr>\n",
       "      <th>PP07_1</th>\n",
       "      <td>6.0</td>\n",
       "      <td>1.0</td>\n",
       "      <td>0.0</td>\n",
       "      <td>1.0</td>\n",
       "      <td>0.0</td>\n",
       "      <td>0.0</td>\n",
       "      <td>1.0</td>\n",
       "      <td>1.0</td>\n",
       "      <td>0.0</td>\n",
       "      <td>1.0</td>\n",
       "      <td>...</td>\n",
       "      <td>NaN</td>\n",
       "      <td>NaN</td>\n",
       "      <td>NaN</td>\n",
       "      <td>NaN</td>\n",
       "      <td>NaN</td>\n",
       "      <td>NaN</td>\n",
       "      <td>NaN</td>\n",
       "      <td>NaN</td>\n",
       "      <td>NaN</td>\n",
       "      <td>NaN</td>\n",
       "    </tr>\n",
       "    <tr>\n",
       "      <th>PP119_1</th>\n",
       "      <td>5.0</td>\n",
       "      <td>0.0</td>\n",
       "      <td>0.0</td>\n",
       "      <td>0.0</td>\n",
       "      <td>1.0</td>\n",
       "      <td>1.0</td>\n",
       "      <td>0.0</td>\n",
       "      <td>0.0</td>\n",
       "      <td>0.0</td>\n",
       "      <td>0.0</td>\n",
       "      <td>...</td>\n",
       "      <td>NaN</td>\n",
       "      <td>NaN</td>\n",
       "      <td>NaN</td>\n",
       "      <td>NaN</td>\n",
       "      <td>NaN</td>\n",
       "      <td>NaN</td>\n",
       "      <td>NaN</td>\n",
       "      <td>NaN</td>\n",
       "      <td>NaN</td>\n",
       "      <td>NaN</td>\n",
       "    </tr>\n",
       "    <tr>\n",
       "      <th>PP161_1</th>\n",
       "      <td>6.0</td>\n",
       "      <td>0.0</td>\n",
       "      <td>0.0</td>\n",
       "      <td>0.0</td>\n",
       "      <td>0.0</td>\n",
       "      <td>0.0</td>\n",
       "      <td>0.0</td>\n",
       "      <td>1.0</td>\n",
       "      <td>0.0</td>\n",
       "      <td>0.0</td>\n",
       "      <td>...</td>\n",
       "      <td>1.0</td>\n",
       "      <td>2.0</td>\n",
       "      <td>2.0</td>\n",
       "      <td>2.0</td>\n",
       "      <td>2.0</td>\n",
       "      <td>1.0</td>\n",
       "      <td>2.0</td>\n",
       "      <td>2.0</td>\n",
       "      <td>1.0</td>\n",
       "      <td>1.0</td>\n",
       "    </tr>\n",
       "    <tr>\n",
       "      <th>PP24_1</th>\n",
       "      <td>NaN</td>\n",
       "      <td>0.0</td>\n",
       "      <td>0.0</td>\n",
       "      <td>1.0</td>\n",
       "      <td>1.0</td>\n",
       "      <td>0.0</td>\n",
       "      <td>0.0</td>\n",
       "      <td>0.0</td>\n",
       "      <td>0.0</td>\n",
       "      <td>0.0</td>\n",
       "      <td>...</td>\n",
       "      <td>NaN</td>\n",
       "      <td>NaN</td>\n",
       "      <td>NaN</td>\n",
       "      <td>NaN</td>\n",
       "      <td>NaN</td>\n",
       "      <td>NaN</td>\n",
       "      <td>NaN</td>\n",
       "      <td>NaN</td>\n",
       "      <td>NaN</td>\n",
       "      <td>NaN</td>\n",
       "    </tr>\n",
       "    <tr>\n",
       "      <th>PP174_1</th>\n",
       "      <td>6.0</td>\n",
       "      <td>0.0</td>\n",
       "      <td>0.0</td>\n",
       "      <td>1.0</td>\n",
       "      <td>0.0</td>\n",
       "      <td>0.0</td>\n",
       "      <td>0.0</td>\n",
       "      <td>0.0</td>\n",
       "      <td>0.0</td>\n",
       "      <td>0.0</td>\n",
       "      <td>...</td>\n",
       "      <td>0.0</td>\n",
       "      <td>3.0</td>\n",
       "      <td>1.0</td>\n",
       "      <td>0.0</td>\n",
       "      <td>1.0</td>\n",
       "      <td>1.0</td>\n",
       "      <td>1.0</td>\n",
       "      <td>2.0</td>\n",
       "      <td>0.0</td>\n",
       "      <td>0.0</td>\n",
       "    </tr>\n",
       "  </tbody>\n",
       "</table>\n",
       "<p>5 rows × 37 columns</p>\n",
       "</div>"
      ],
      "text/plain": [
       "         Add complementary food age  Like fruit  Like vegetables  Like meat  \\\n",
       "PP07_1                          6.0         1.0              0.0        1.0   \n",
       "PP119_1                         5.0         0.0              0.0        0.0   \n",
       "PP161_1                         6.0         0.0              0.0        0.0   \n",
       "PP24_1                          NaN         0.0              0.0        1.0   \n",
       "PP174_1                         6.0         0.0              0.0        1.0   \n",
       "\n",
       "         Like pasta  More bean products  More fried food  More Snacks  \\\n",
       "PP07_1          0.0                 0.0              1.0          1.0   \n",
       "PP119_1         1.0                 1.0              0.0          0.0   \n",
       "PP161_1         0.0                 0.0              0.0          1.0   \n",
       "PP24_1          1.0                 0.0              0.0          0.0   \n",
       "PP174_1         0.0                 0.0              0.0          0.0   \n",
       "\n",
       "         More drink  More buying ingredients  ...  Fungi  Grease  Drink  \\\n",
       "PP07_1          0.0                      1.0  ...    NaN     NaN    NaN   \n",
       "PP119_1         0.0                      0.0  ...    NaN     NaN    NaN   \n",
       "PP161_1         0.0                      0.0  ...    1.0     2.0    2.0   \n",
       "PP24_1          0.0                      0.0  ...    NaN     NaN    NaN   \n",
       "PP174_1         0.0                      0.0  ...    0.0     3.0    1.0   \n",
       "\n",
       "         Fried food  Sweets  Barbecue  Puffed food  Pickles  MSG  Tonic  \n",
       "PP07_1          NaN     NaN       NaN          NaN      NaN  NaN    NaN  \n",
       "PP119_1         NaN     NaN       NaN          NaN      NaN  NaN    NaN  \n",
       "PP161_1         2.0     2.0       1.0          2.0      2.0  1.0    1.0  \n",
       "PP24_1          NaN     NaN       NaN          NaN      NaN  NaN    NaN  \n",
       "PP174_1         0.0     1.0       1.0          1.0      2.0  0.0    0.0  \n",
       "\n",
       "[5 rows x 37 columns]"
      ]
     },
     "execution_count": 47,
     "metadata": {},
     "output_type": "execute_result"
    }
   ],
   "source": [
    "data = pd.read_csv('../data/Preprocess/metadata_6_food.csv', index_col=0, sep=',')\n",
    "data.head()"
   ]
  },
  {
   "cell_type": "code",
   "execution_count": 60,
   "metadata": {},
   "outputs": [],
   "source": [
    "#corr, corr_p_value = correlation_analysis(data, by='columns', method=kendalltau, sampling=1000)\n",
    "#corr.to_csv('Result/4.Food_corr.csv')\n",
    "#corr_p_value.to_csv('Result/4.Food_corr_p.csv')\n",
    "corr = pd.read_csv('Result/4.Food_corr.csv', index_col=0)\n",
    "corr_p_value = pd.read_csv('Result/4.Food_corr_p.csv', index_col=0)"
   ]
  },
  {
   "cell_type": "code",
   "execution_count": 62,
   "metadata": {},
   "outputs": [],
   "source": [
    "loadings = pd.read_csv('../result/Metadata/EFA_food_loading.csv', index_col=0)\n",
    "corr_links = []\n",
    "corr_nodes = set()\n",
    "vs = list(corr.columns)\n",
    "for i in range(len(corr)-1):\n",
    "    for j in range(i+1, len(corr)):\n",
    "        if corr_p_value.iloc[i, j]<0.01 and abs(corr.iloc[i, j])>0.25:\n",
    "            corr_links.append([vs[i], vs[j], abs(corr.iloc[i, j]), corr.iloc[i, j], np.sign(corr.iloc[i, j])])\n",
    "        v = vs[i]\n",
    "        max_factor = loadings.loc[v, loadings.loc[v, :]==loadings.loc[v, :].max()].index[0]\n",
    "        corr_nodes.add((v, v, 'Food', abs(loadings.loc[v, max_factor]), max_factor))\n",
    "        v = vs[j]\n",
    "        max_factor = loadings.loc[v, loadings.loc[v, :]==loadings.loc[v, :].max()].index[0]\n",
    "        corr_nodes.add((v, v, 'Food', abs(loadings.loc[v, max_factor]), max_factor))\n",
    "            \n",
    "corr_links = pd.DataFrame(corr_links, columns=['Source', 'Target', 'Weight', 'r', 'sign_r'])\n",
    "corr_nodes = pd.DataFrame(corr_nodes, columns=['Id', 'Label', 'node_type', 'node_size', 'factor'])\n",
    "corr_links.to_csv('Result/4.Food_corr_links.csv', index=False)\n",
    "corr_nodes.to_csv('Result/4.Food_corr_nodes.csv', index=False)"
   ]
  },
  {
   "cell_type": "markdown",
   "metadata": {},
   "source": [
    "# 3. correlation (food vs ASV & Metabolism)"
   ]
  },
  {
   "cell_type": "code",
   "execution_count": 282,
   "metadata": {},
   "outputs": [],
   "source": [
    "food_score = pd.read_csv('Result/sign_recheck/4. Food_EFA_scores_signcheck.csv', index_col=0)\n",
    "asv_score = pd.read_csv('Result/sign_recheck/2. Microbiome_EFA_scores_signcheck.csv', index_col=0)\n",
    "meta_score = pd.read_csv('Result/sign_recheck/3. Metabolism_EFA_scores_signcheck.csv', index_col=0)"
   ]
  },
  {
   "cell_type": "code",
   "execution_count": 283,
   "metadata": {},
   "outputs": [
    {
     "data": {
      "text/plain": [
       "((57, 9), (168, 10), (129, 12))"
      ]
     },
     "execution_count": 283,
     "metadata": {},
     "output_type": "execute_result"
    }
   ],
   "source": [
    "food_score.shape, asv_score.shape, meta_score.shape"
   ]
  },
  {
   "cell_type": "code",
   "execution_count": 284,
   "metadata": {},
   "outputs": [],
   "source": [
    "def correlation_analysis_2_matrix(data1, data2, method=spearmanr, sampling=1000):\n",
    "    sample_overlap = set(data1.columns)&set(data2.columns)\n",
    "    temp1 = data1.loc[:, sample_overlap]\n",
    "    temp2 = data2.loc[:, sample_overlap]\n",
    "    correlation_r_res = np.zeros((temp1.shape[0], temp2.shape[0]))\n",
    "    correlation_p_res = np.ones((temp1.shape[0], temp2.shape[0]))\n",
    "    for i in range(temp1.shape[0]):\n",
    "        for j in range(temp2.shape[0]):\n",
    "            r, p = method(temp1.iloc[i, :], temp2.iloc[j, :])\n",
    "            correlation_r_res[i, j] = r\n",
    "            correlation_p_res[i, j] = p\n",
    "            if sampling:\n",
    "                p = 0\n",
    "                for rt in range(sampling):\n",
    "                    x, y = list(temp1.iloc[i, :]), list(temp2.iloc[j, :])\n",
    "                    np.random.shuffle(y)\n",
    "                    r1, _ = method(x, y)\n",
    "                    if r1 > r:\n",
    "                        p += 1\n",
    "                p = min([p/float(sampling), 1-p/float(sampling)])\n",
    "                correlation_p_res[i, j] = p\n",
    "    correlation_r_res = pd.DataFrame(correlation_r_res, index=temp1.index, columns=temp2.index)\n",
    "    correlation_p_res = pd.DataFrame(correlation_p_res, index=temp1.index, columns=temp2.index)\n",
    "    return correlation_r_res, correlation_p_res"
   ]
  },
  {
   "cell_type": "code",
   "execution_count": 289,
   "metadata": {},
   "outputs": [],
   "source": [
    "corr1, corr_p1 = correlation_analysis_2_matrix(food_score.T, asv_score.T, method=spearmanr, sampling=1000)"
   ]
  },
  {
   "cell_type": "code",
   "execution_count": 290,
   "metadata": {},
   "outputs": [],
   "source": [
    "corr2, corr_p2 = correlation_analysis_2_matrix(food_score.T, meta_score.T, method=spearmanr, sampling=1000)"
   ]
  },
  {
   "cell_type": "code",
   "execution_count": 291,
   "metadata": {},
   "outputs": [],
   "source": [
    "corr1.columns = ['ASV_'+i for i in corr1.columns]\n",
    "corr_p1.columns = ['ASV_'+i for i in corr_p1.columns]\n",
    "corr2.columns = ['MET_'+i for i in corr2.columns]\n",
    "corr_p2.columns = ['MET_'+i for i in corr_p2.columns]\n",
    "corr = pd.concat([corr1, corr2],axis=1)\n",
    "corr_p = pd.concat([corr_p1, corr_p2],axis=1)"
   ]
  },
  {
   "cell_type": "code",
   "execution_count": 311,
   "metadata": {},
   "outputs": [
    {
     "data": {
      "text/plain": [
       "<Figure size 6900x2100 with 0 Axes>"
      ]
     },
     "metadata": {},
     "output_type": "display_data"
    },
    {
     "data": {
      "image/png": "[encoded data removed]",
      "text/plain": [
       "<Figure size 1656x504 with 4 Axes>"
      ]
     },
     "metadata": {
      "needs_background": "light"
     },
     "output_type": "display_data"
    }
   ],
   "source": [
    "_ = plt.figure(figsize=(23, 7), dpi=300)\n",
    "g = sns.clustermap(corr, metric='cosine', cmap='RdBu_r', linewidths=0.5, figsize=(23, 7))\n",
    "\n",
    "_ = g.ax_heatmap.set_ylim(corr.shape[0], -0.0)\n",
    "xticklabels = np.array(corr.columns)[g.dendrogram_col.reordered_ind]\n",
    "_ = g.ax_heatmap.set_xticklabels(xticklabels, rotation=50, ha='right', fontsize=15)\n",
    "yticklabels = np.array(corr.index)[g.dendrogram_row.reordered_ind]\n",
    "_ = g.ax_heatmap.set_yticklabels(yticklabels, rotation=360, ha='left', fontsize=15)\n",
    "\n",
    "### -log P-value\n",
    "for mf in range(len(xticklabels)):\n",
    "    for af in range(len(yticklabels)):\n",
    "        log_p = corr_p.loc[yticklabels[af], xticklabels[mf]]\n",
    "        _ = g.ax_heatmap.annotate('**' if log_p<=0.01 else ('*' if log_p<=0.05 else ''), \n",
    "                                  (mf+(0.25 if log_p<=0.01 else 0.35), af+0.75), \n",
    "                                 fontsize=25, color='white')"
   ]
  },
  {
   "cell_type": "markdown",
   "metadata": {},
   "source": [
    "# 4. Loading Bar Plot"
   ]
  },
  {
   "cell_type": "code",
   "execution_count": 285,
   "metadata": {},
   "outputs": [
    {
     "data": {
      "text/html": [
       "<div>\n",
       "<style scoped>\n",
       "    .dataframe tbody tr th:only-of-type {\n",
       "        vertical-align: middle;\n",
       "    }\n",
       "\n",
       "    .dataframe tbody tr th {\n",
       "        vertical-align: top;\n",
       "    }\n",
       "\n",
       "    .dataframe thead th {\n",
       "        text-align: right;\n",
       "    }\n",
       "</style>\n",
       "<table border=\"1\" class=\"dataframe\">\n",
       "  <thead>\n",
       "    <tr style=\"text-align: right;\">\n",
       "      <th></th>\n",
       "      <th>Name</th>\n",
       "      <th>Normal_mean</th>\n",
       "      <th>PP_mean</th>\n",
       "      <th>FC</th>\n",
       "      <th>p_value</th>\n",
       "      <th>FDR</th>\n",
       "    </tr>\n",
       "  </thead>\n",
       "  <tbody>\n",
       "    <tr>\n",
       "      <th>Factor1</th>\n",
       "      <td>Factor1</td>\n",
       "      <td>0.430990</td>\n",
       "      <td>-0.551667</td>\n",
       "      <td>-0.982656</td>\n",
       "      <td>0.000033</td>\n",
       "      <td>0.00030</td>\n",
       "    </tr>\n",
       "    <tr>\n",
       "      <th>Factor6</th>\n",
       "      <td>Factor6</td>\n",
       "      <td>0.159218</td>\n",
       "      <td>-0.203799</td>\n",
       "      <td>-0.363017</td>\n",
       "      <td>0.020571</td>\n",
       "      <td>0.09257</td>\n",
       "    </tr>\n",
       "    <tr>\n",
       "      <th>Factor3</th>\n",
       "      <td>Factor3</td>\n",
       "      <td>0.102382</td>\n",
       "      <td>-0.131049</td>\n",
       "      <td>-0.233431</td>\n",
       "      <td>0.394031</td>\n",
       "      <td>0.74773</td>\n",
       "    </tr>\n",
       "    <tr>\n",
       "      <th>Factor7</th>\n",
       "      <td>Factor7</td>\n",
       "      <td>0.044385</td>\n",
       "      <td>-0.056813</td>\n",
       "      <td>-0.101198</td>\n",
       "      <td>0.562629</td>\n",
       "      <td>0.74773</td>\n",
       "    </tr>\n",
       "    <tr>\n",
       "      <th>Factor8</th>\n",
       "      <td>Factor8</td>\n",
       "      <td>0.113734</td>\n",
       "      <td>-0.145580</td>\n",
       "      <td>-0.259315</td>\n",
       "      <td>0.562629</td>\n",
       "      <td>0.74773</td>\n",
       "    </tr>\n",
       "    <tr>\n",
       "      <th>Factor4</th>\n",
       "      <td>Factor4</td>\n",
       "      <td>-0.063018</td>\n",
       "      <td>0.080663</td>\n",
       "      <td>0.143680</td>\n",
       "      <td>0.640951</td>\n",
       "      <td>0.74773</td>\n",
       "    </tr>\n",
       "    <tr>\n",
       "      <th>Factor2</th>\n",
       "      <td>Factor2</td>\n",
       "      <td>0.023166</td>\n",
       "      <td>-0.029652</td>\n",
       "      <td>-0.052818</td>\n",
       "      <td>0.675857</td>\n",
       "      <td>0.74773</td>\n",
       "    </tr>\n",
       "    <tr>\n",
       "      <th>Factor9</th>\n",
       "      <td>Factor9</td>\n",
       "      <td>0.135176</td>\n",
       "      <td>-0.173026</td>\n",
       "      <td>-0.308202</td>\n",
       "      <td>0.723491</td>\n",
       "      <td>0.74773</td>\n",
       "    </tr>\n",
       "    <tr>\n",
       "      <th>Factor5</th>\n",
       "      <td>Factor5</td>\n",
       "      <td>0.032855</td>\n",
       "      <td>-0.042055</td>\n",
       "      <td>-0.074910</td>\n",
       "      <td>0.747730</td>\n",
       "      <td>0.74773</td>\n",
       "    </tr>\n",
       "  </tbody>\n",
       "</table>\n",
       "</div>"
      ],
      "text/plain": [
       "            Name  Normal_mean   PP_mean        FC   p_value      FDR\n",
       "Factor1  Factor1     0.430990 -0.551667 -0.982656  0.000033  0.00030\n",
       "Factor6  Factor6     0.159218 -0.203799 -0.363017  0.020571  0.09257\n",
       "Factor3  Factor3     0.102382 -0.131049 -0.233431  0.394031  0.74773\n",
       "Factor7  Factor7     0.044385 -0.056813 -0.101198  0.562629  0.74773\n",
       "Factor8  Factor8     0.113734 -0.145580 -0.259315  0.562629  0.74773\n",
       "Factor4  Factor4    -0.063018  0.080663  0.143680  0.640951  0.74773\n",
       "Factor2  Factor2     0.023166 -0.029652 -0.052818  0.675857  0.74773\n",
       "Factor9  Factor9     0.135176 -0.173026 -0.308202  0.723491  0.74773\n",
       "Factor5  Factor5     0.032855 -0.042055 -0.074910  0.747730  0.74773"
      ]
     },
     "execution_count": 285,
     "metadata": {},
     "output_type": "execute_result"
    }
   ],
   "source": [
    "from scipy.stats import fisher_exact, ranksums\n",
    "import statsmodels.stats.multitest as multi\n",
    "statistics = []\n",
    "temp_data = food_score.T\n",
    "for obj in temp_data.index:\n",
    "    row = []\n",
    "    normal_abun = temp_data.loc[obj, [i for i in temp_data.columns if i[0]=='N']]\n",
    "    pp_abun = temp_data.loc[obj, [i for i in temp_data.columns if i[0]=='P']]\n",
    "    row.extend([obj, normal_abun.mean(), pp_abun.mean()])\n",
    "    ### Normal vs F_PP\n",
    "    f, p_value = ranksums(pp_abun, normal_abun)\n",
    "    FC = pp_abun.mean()-normal_abun.mean()\n",
    "    row.extend([FC, p_value])\n",
    "    statistics.append(row)\n",
    "statistics = pd.DataFrame(statistics, index = temp_data.index, \n",
    "                             columns = ['Name','Normal_mean', 'PP_mean', 'FC','p_value'])\n",
    "statistics['FDR'] = multi.multipletests(statistics['p_value'], method = 'fdr_bh')[1]\n",
    "statistics.sort_values(['p_value'])"
   ]
  },
  {
   "cell_type": "code",
   "execution_count": 286,
   "metadata": {},
   "outputs": [
    {
     "data": {
      "text/plain": [
       "<matplotlib.axes._subplots.AxesSubplot at 0x7f02c9425b38>"
      ]
     },
     "execution_count": 286,
     "metadata": {},
     "output_type": "execute_result"
    },
    {
     "data": {
      "image/png": "[encoded data removed]",
      "text/plain": [
       "<Figure size 100x250 with 1 Axes>"
      ]
     },
     "metadata": {
      "needs_background": "light"
     },
     "output_type": "display_data"
    }
   ],
   "source": [
    "data = food_score\n",
    "\n",
    "v = 'Factor1'\n",
    "values = data.loc[-np.isnan(data[v]), v]\n",
    "normal_values = values[[i for i in values.index if i[0]=='N']]\n",
    "pp_values = values[[i for i in values.index if i[0]=='P']]\n",
    "\n",
    "_ = plt.figure(figsize=(2, 5), dpi=50)\n",
    "plot_data = []\n",
    "for i in normal_values:\n",
    "    plot_data.append(['Normal', i])\n",
    "for i in pp_values:\n",
    "    plot_data.append(['PP', i])\n",
    "plot_data = pd.DataFrame(plot_data, columns=['Group', 'Healthy foods'])\n",
    "sns.boxplot(x=\"Group\", y=\"Healthy foods\", data=plot_data, palette=['#89c3eb', '#ec6d71'])\n",
    "\n",
    "### 绘制显著性\n",
    "_ = plt.plot([0, 1], [1.3, 1.3], lw=1., c='k')\n",
    "_ = plt.plot([0, 0], [1.2, 1.3], lw=1., c='k')\n",
    "_ = plt.plot([1, 1], [0.75, 1.3], lw=1., c='k')\n",
    "_ = plt.annotate('**', (0.45, 1.3), fontsize=13)\n",
    "_ = plt.show()"
   ]
  },
  {
   "cell_type": "code",
   "execution_count": 287,
   "metadata": {},
   "outputs": [
    {
     "data": {
      "text/plain": [
       "<matplotlib.axes._subplots.AxesSubplot at 0x7f02c5db22b0>"
      ]
     },
     "execution_count": 287,
     "metadata": {},
     "output_type": "execute_result"
    },
    {
     "data": {
      "image/png": "[encoded data removed]",
      "text/plain": [
       "<Figure size 100x250 with 1 Axes>"
      ]
     },
     "metadata": {
      "needs_background": "light"
     },
     "output_type": "display_data"
    }
   ],
   "source": [
    "v = 'Factor6'\n",
    "values = data.loc[-np.isnan(data[v]), v]\n",
    "normal_values = values[[i for i in values.index if i[0]=='N']]\n",
    "pp_values = values[[i for i in values.index if i[0]=='P']]\n",
    "\n",
    "_ = plt.figure(figsize=(2, 5), dpi=50)\n",
    "plot_data = []\n",
    "for i in normal_values:\n",
    "    plot_data.append(['Normal', i])\n",
    "for i in pp_values:\n",
    "    plot_data.append(['PP', i])\n",
    "plot_data = pd.DataFrame(plot_data, columns=['Group', 'MSG'])\n",
    "sns.boxplot(x=\"Group\", y=\"MSG\", data=plot_data, palette=['#89c3eb', '#ec6d71'])\n",
    "### 绘制显著性\n",
    "_ = plt.plot([0, 1], [2.5, 2.5], lw=1., c='k')\n",
    "_ = plt.plot([0, 0], [2.25, 2.5], lw=1., c='k')\n",
    "_ = plt.plot([1, 1], [2.42, 2.5], lw=1., c='k')\n",
    "_ = plt.annotate('*', (0.46, 2.5), fontsize=13)\n",
    "_ = plt.show()"
   ]
  },
  {
   "cell_type": "code",
   "execution_count": 288,
   "metadata": {},
   "outputs": [
    {
     "data": {
      "text/plain": [
       "<matplotlib.axes._subplots.AxesSubplot at 0x7f02be8d1cf8>"
      ]
     },
     "execution_count": 288,
     "metadata": {},
     "output_type": "execute_result"
    },
    {
     "data": {
      "image/png": "[encoded data removed]",
      "text/plain": [
       "<Figure size 100x250 with 1 Axes>"
      ]
     },
     "metadata": {
      "needs_background": "light"
     },
     "output_type": "display_data"
    }
   ],
   "source": [
    "v = 'Factor3'\n",
    "values = data.loc[-np.isnan(data[v]), v]\n",
    "normal_values = values[[i for i in values.index if i[0]=='N']]\n",
    "pp_values = values[[i for i in values.index if i[0]=='P']]\n",
    "\n",
    "_ = plt.figure(figsize=(2, 5), dpi=50)\n",
    "plot_data = []\n",
    "for i in normal_values:\n",
    "    plot_data.append(['Normal', i])\n",
    "for i in pp_values:\n",
    "    plot_data.append(['PP', i])\n",
    "plot_data = pd.DataFrame(plot_data, columns=['Group', 'Snacks and drink'])\n",
    "sns.boxplot(x=\"Group\", y=\"Snacks and drink\", data=plot_data, palette=['#89c3eb', '#ec6d71'])\n",
    "### 绘制显著性\n",
    "_ = plt.plot([0, 1], [3.6, 3.6], lw=1., c='k')\n",
    "_ = plt.plot([0, 0], [1.4, 3.6], lw=1., c='k')\n",
    "_ = plt.plot([1, 1], [3.42, 3.6], lw=1., c='k')\n",
    "_ = plt.annotate('ns', (0.46, 3.65), fontsize=13)\n",
    "_ = plt.show()"
   ]
  },
  {
   "cell_type": "code",
   "execution_count": null,
   "metadata": {},
   "outputs": [],
   "source": []
  }
 ],
 "metadata": {
  "kernelspec": {
   "display_name": "Python 3",
   "language": "python",
   "name": "python3"
  },
  "language_info": {
   "codemirror_mode": {
    "name": "ipython",
    "version": 3
   },
   "file_extension": ".py",
   "mimetype": "text/x-python",
   "name": "python",
   "nbconvert_exporter": "python",
   "pygments_lexer": "ipython3",
   "version": "3.8.8"
  }
 },
 "nbformat": 4,
 "nbformat_minor": 4
}
